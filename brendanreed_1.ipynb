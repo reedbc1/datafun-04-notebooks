<<<<<<< HEAD
{
 "cells": [
  {
   "cell_type": "markdown",
   "id": "e6fd92fc",
   "metadata": {},
   "source": [
    "# Module 4 Project"
   ]
  },
  {
   "cell_type": "markdown",
   "id": "768825f1",
   "metadata": {},
   "source": [
    "## Task 1 - Series"
   ]
  },
  {
   "cell_type": "code",
   "execution_count": 1,
   "id": "fddfc9ed",
   "metadata": {},
   "outputs": [],
   "source": [
    "import pandas as pd\n"
   ]
  },
  {
   "cell_type": "markdown",
   "id": "21ec6d3e",
   "metadata": {},
   "source": [
    "Create a pandas Series named grades from a list of integers (exam scores).\n",
    "Get the value of the first grade with grades[0].\n",
    "Call the built in Series functions: count(), mean(), min(), max(), std(), and describe()."
   ]
  },
  {
   "cell_type": "code",
   "execution_count": 2,
   "id": "db8ea4c6",
   "metadata": {},
   "outputs": [
    {
     "name": "stdout",
     "output_type": "stream",
     "text": [
      "The first value of grades is 78\n"
     ]
    }
   ],
   "source": [
    "grades = pd.Series([78, 98, 87, 91, 75])\n",
    "print(f'The first value of grades is {grades[0]}')\n",
    "\n"
   ]
  },
  {
   "cell_type": "markdown",
   "id": "d584bde5",
   "metadata": {},
   "source": [
    "## Task 2 - Series from dictionary"
   ]
  },
  {
   "cell_type": "markdown",
   "id": "187e70ab",
   "metadata": {},
   "source": []
  }
 ],
 "metadata": {
  "kernelspec": {
   "display_name": "Python 3 (ipykernel)",
   "language": "python",
   "name": "python3"
  },
  "language_info": {
   "codemirror_mode": {
    "name": "ipython",
    "version": 3
   },
   "file_extension": ".py",
   "mimetype": "text/x-python",
   "name": "python",
   "nbconvert_exporter": "python",
   "pygments_lexer": "ipython3",
   "version": "3.11.2"
  }
 },
 "nbformat": 4,
 "nbformat_minor": 5
}
=======

>>>>>>> aac11de323ec1d2741a719e2ef4ddc4f3ae3a80c
