{
 "cells": [
  {
   "cell_type": "markdown",
   "id": "e6fd92fc",
   "metadata": {},
   "source": [
    "# Module 4 Project"
   ]
  },
  {
   "cell_type": "markdown",
   "id": "768825f1",
   "metadata": {},
   "source": [
    "## Task 1 - Series"
   ]
  },
  {
   "cell_type": "markdown",
   "id": "d5dcb4b1",
   "metadata": {},
   "source": [
    "Import pandas"
   ]
  },
  {
   "cell_type": "code",
   "execution_count": 7,
   "id": "fddfc9ed",
   "metadata": {},
   "outputs": [],
   "source": [
    "import pandas as pd\n"
   ]
  },
  {
   "cell_type": "markdown",
   "id": "21ec6d3e",
   "metadata": {},
   "source": [
    "Create a pandas Series named grades from a list of integers (exam scores).\n",
    "Get the value of the first grade with grades[0].\n",
    "Call the built in Series functions: count(), mean(), min(), max(), std(), and describe()."
   ]
  },
  {
   "cell_type": "code",
   "execution_count": 8,
   "id": "db8ea4c6",
   "metadata": {},
   "outputs": [
    {
     "name": "stdout",
     "output_type": "stream",
     "text": [
      "The first value of grades is 78\n"
     ]
    },
    {
     "data": {
      "text/plain": [
       "count     5.000000\n",
       "mean     85.800000\n",
       "std       9.418068\n",
       "min      75.000000\n",
       "25%      78.000000\n",
       "50%      87.000000\n",
       "75%      91.000000\n",
       "max      98.000000\n",
       "dtype: float64"
      ]
     },
     "execution_count": 8,
     "metadata": {},
     "output_type": "execute_result"
    }
   ],
   "source": [
    "grades = pd.Series([78, 98, 87, 91, 75])\n",
    "print(f'The first value of grades is {grades[0]}')\n",
    "grades.count()\n",
    "grades.mean()\n",
    "grades.min()\n",
    "grades.max()\n",
    "grades.std()\n",
    "grades.describe()\n"
   ]
  },
  {
   "cell_type": "markdown",
   "id": "d584bde5",
   "metadata": {},
   "source": [
    "## Task 2 - Series from dictionary"
   ]
  },
  {
   "cell_type": "markdown",
   "id": "53cc6a5a",
   "metadata": {},
   "source": [
    "Using dictionary initializers"
   ]
  },
  {
   "cell_type": "code",
   "execution_count": null,
   "id": "777611a6",
   "metadata": {},
   "outputs": [],
   "source": [
    "grades = pd.Series({'Wally': 87, 'Eva': 100, 'Sam': 94})"
   ]
  },
  {
   "cell_type": "markdown",
   "id": "3575b19d",
   "metadata": {},
   "source": [
    "Using different ways to get student scores from the Series"
   ]
  },
  {
   "cell_type": "code",
   "execution_count": 9,
   "id": "91ff3270",
   "metadata": {},
   "outputs": [
    {
     "name": "stdout",
     "output_type": "stream",
     "text": [
      "Eva's score: 100\n",
      "Wally's score: 87\n",
      "Values for grades: [ 87 100  94]\n"
     ]
    }
   ],
   "source": [
    "print(f\"Eva's score: {grades['Eva']}\")\n",
    "print(f\"Wally's score: {grades.Wally}\")\n",
    "\n",
    "print(f'Values for grades: {grades.values}')"
   ]
  }
 ],
 "metadata": {
  "kernelspec": {
   "display_name": "Python 3 (ipykernel)",
   "language": "python",
   "name": "python3"
  },
  "language_info": {
   "codemirror_mode": {
    "name": "ipython",
    "version": 3
   },
   "file_extension": ".py",
   "mimetype": "text/x-python",
   "name": "python",
   "nbconvert_exporter": "python",
   "pygments_lexer": "ipython3",
   "version": "3.11.2"
  }
 },
 "nbformat": 4,
 "nbformat_minor": 5
}
